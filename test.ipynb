{
 "cells": [
  {
   "cell_type": "code",
   "execution_count": 12,
   "metadata": {},
   "outputs": [],
   "source": [
    "import matplotlib.pyplot as plt\n",
    "import numpy as np\n",
    "import matplotlib"
   ]
  },
  {
   "cell_type": "code",
   "execution_count": 13,
   "metadata": {},
   "outputs": [
    {
     "data": {
      "image/png": "[encoded data removed]",
      "text/plain": [
       "<Figure size 432x288 with 1 Axes>"
      ]
     },
     "metadata": {
      "needs_background": "light"
     },
     "output_type": "display_data"
    }
   ],
   "source": [
    "%matplotlib inline\n",
    "np.random.seed(42)\n",
    "x = np.random.normal(size=1000)\n",
    "plt.hist(x, density=True, bins=30)  # `density=False` would make counts\n",
    "plt.ylabel('Probability')\n",
    "plt.xlabel('Data');"
   ]
  },
  {
   "cell_type": "code",
   "execution_count": 16,
   "metadata": {},
   "outputs": [
    {
     "data": {
      "text/plain": [
       "(array([0.00422893, 0.        , 0.01268678, 0.01268678, 0.02537356,\n",
       "        0.05497605, 0.0803496 , 0.15647028, 0.16915706, 0.23259096,\n",
       "        0.31716949, 0.4144348 , 0.32139842, 0.3975191 , 0.43135051,\n",
       "        0.36368768, 0.35522983, 0.23681989, 0.19030169, 0.13109672,\n",
       "        0.11840994, 0.09726531, 0.05074712, 0.01268678, 0.02960249,\n",
       "        0.00422893, 0.00422893, 0.        , 0.        , 0.00422893]),\n",
       " array([-3.24126734, -3.00480071, -2.76833408, -2.53186746, -2.29540083,\n",
       "        -2.0589342 , -1.82246757, -1.58600095, -1.34953432, -1.11306769,\n",
       "        -0.87660106, -0.64013444, -0.40366781, -0.16720118,  0.06926545,\n",
       "         0.30573208,  0.5421987 ,  0.77866533,  1.01513196,  1.25159859,\n",
       "         1.48806521,  1.72453184,  1.96099847,  2.1974651 ,  2.43393172,\n",
       "         2.67039835,  2.90686498,  3.14333161,  3.37979824,  3.61626486,\n",
       "         3.85273149]),\n",
       " <a list of 30 Patch objects>)"
      ]
     },
     "execution_count": 16,
     "metadata": {},
     "output_type": "execute_result"
    }
   ],
   "source": [
    "fig = matplotlib.figure.Figure(figsize=(5, 4), dpi=100)\n",
    "t = np.arange(0, 3, .01)\n",
    "fig.add_subplot(111).hist(x, density=True, bins=30)"
   ]
  },
  {
   "cell_type": "code",
   "execution_count": 17,
   "metadata": {},
   "outputs": [
    {
     "data": {
      "image/png": "[encoded data removed]",
      "text/plain": [
       "<Figure size 500x400 with 1 Axes>"
      ]
     },
     "execution_count": 17,
     "metadata": {},
     "output_type": "execute_result"
    }
   ],
   "source": [
    "fig"
   ]
  },
  {
   "cell_type": "code",
   "execution_count": null,
   "metadata": {},
   "outputs": [],
   "source": []
  }
 ],
 "metadata": {
  "kernelspec": {
   "display_name": "Python 3",
   "language": "python",
   "name": "python3"
  },
  "language_info": {
   "codemirror_mode": {
    "name": "ipython",
    "version": 3
   },
   "file_extension": ".py",
   "mimetype": "text/x-python",
   "name": "python",
   "nbconvert_exporter": "python",
   "pygments_lexer": "ipython3",
   "version": "3.7.4"
  }
 },
 "nbformat": 4,
 "nbformat_minor": 2
}
